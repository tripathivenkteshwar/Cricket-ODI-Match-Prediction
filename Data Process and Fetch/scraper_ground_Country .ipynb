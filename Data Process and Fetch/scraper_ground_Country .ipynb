{
 "cells": [
  {
   "cell_type": "code",
   "execution_count": 1,
   "metadata": {
    "collapsed": true
   },
   "outputs": [],
   "source": [
    "#ground scrap from wikipedia\n",
    "from pandas import DataFrame\n",
    "from bs4 import BeautifulSoup\n",
    "import requests"
   ]
  },
  {
   "cell_type": "code",
   "execution_count": 2,
   "metadata": {
    "collapsed": true
   },
   "outputs": [],
   "source": [
    "#fetching data\n",
    "url=\"https://en.wikipedia.org/wiki/List_of_One_Day_International_cricket_grounds\"\n",
    "response=requests.get(url,timeout=10)\n",
    "soup=BeautifulSoup(response.text, 'lxml')"
   ]
  },
  {
   "cell_type": "code",
   "execution_count": 3,
   "metadata": {},
   "outputs": [
    {
     "name": "stdout",
     "output_type": "stream",
     "text": [
      "['1', 'Melbourne Cricket Ground (MCG)', 'Melbourne', 'Australia', '5 January 1971', '18 January 2019 [2]', '149 [3]']\n",
      "['2', 'Old Trafford Cricket Ground', 'Manchester', 'England', '24 August 1972', '9 July 2019 [4]', '52 [5]']\n",
      "['3', \"Lord's\", 'London', 'England', '26 August 1972', '14 July 2019 [6]', '66 [7]']\n",
      "['4', 'Edgbaston Cricket Ground', 'Birmingham', 'England', '28 August 1972', '11 July 2019 [8]', '63 [9]']\n",
      "['5', 'AMI Stadium (formerly Jade Stadium and Lancaster Park)', 'Christchurch', 'New Zealand', '11 February 1973', '29 January 2011 [10]', '48 [11]']\n",
      "['6', \"St Helen's\", 'Swansea', 'Wales', '18 July 1973', '9 June 1983 [12]', '2 [13]']\n",
      "['7', 'Headingley Cricket Ground', 'Leeds', 'England', '5 September 1973', '6 July 2019 [14]', '45 [15]']\n",
      "['8', 'The Oval', 'London', 'England', '7 September 1973', '15 June 2019 [16]', '73 [17]']\n",
      "['9', 'Carisbrook', 'Dunedin', 'New Zealand', '30 March 1974', '25 February 2004 [18]', '21 [19]']\n",
      "['10', 'Trent Bridge', 'Nottingham', 'England', '31 August 1974', '20 June 2019 [20]', '49 [21]']\n",
      "['11', 'Basin Reserve (The Basin)', 'Wellington', 'New Zealand', '9 March 1975', '19 January 2018 [22]', '29 [23]']\n",
      "['12', 'Adelaide Oval', 'Adelaide', 'Australia', '20 December 1975', '15 January 2019 [24]', '85 [25]']\n",
      "['13', 'Eden Park', 'Auckland', 'New Zealand', '22 February 1976', '8 February 2020 [26]', '77 [27]']\n",
      "['14', 'North Marine Road Ground', 'Scarborough', 'England', '26 August 1976', '15 July 1978 [28]', '2 [29]']\n",
      "['15', 'Jinnah Stadium (Sialkot Stadium)', 'Sialkot', 'Pakistan', '16 October 1976', '6 December 1996 [30]', '9 [31]']\n",
      "['16', 'Albion Sports Complex', 'Albion', 'Guyana', '16 March 1977', '14 April 1985 [32]', '5 [33]']\n",
      "['17', 'Zafar Ali Stadium (Sahiwal Stadium)', 'Sahiwal', 'Pakistan', '23 December 1977', '3 November 1978 [34]', '2 [35]']\n",
      "['18', 'Gaddafi Stadium (Lahore Stadium)', 'Lahore', 'Pakistan', '13 January 1978', '31 May 2015 [36]', '61 [37]']\n",
      "['19', 'Antigua Recreation Ground (The Rec)', \"St. John's\", 'Antigua & Barbuda', '22 February 1978', '28 February 2007 [38]', '11 [39]']\n",
      "['20', 'Mindoo Phillip Park (Victoria Park)', 'Castries', 'Saint Lucia', '12 April 1978', '19 April 1984 [40]', '2 [41]']\n",
      "['21', 'Ayub National Stadium (Baluchistan CA Ground)', 'Quetta', 'Pakistan', '1 October 1978', '12 October 1984 [42]', '2 [43]']\n",
      "['22', 'Sydney Cricket Ground (SCG)', 'Sydney', 'Australia', '13 January 1979', '13 March 2020 [44]', '157 [45]']\n",
      "['23', 'Brisbane Cricket Ground (The Gabba)', 'Brisbane', 'Australia', '23 December 1979', '19 January 2018 [46]', '78 [47]']\n",
      "['24', 'National Stadium', 'Karachi', 'Pakistan', '21 November 1980', '2 October 2019 [48]', '48 [49]']\n",
      "['25', 'Western Australian Cricket Association Ground (The WACA)', 'Perth', 'Australia', '9 December 1980', '19 January 2017 [50]', '80 [51]']\n",
      "['26', 'Arnos Vale Stadium', 'Kingstown', 'Saint Vincent', '4 February 1981', '20 March 2012 [52]', '23 [53]']\n",
      "['27', 'Seddon Park', 'Hamilton', 'New Zealand', '15 February 1981', '5 February 2020 [54]', '35 [55]']\n",
      "['28', 'Sardar Vallabhbhai Patel Stadium', 'Ahmedabad', 'India', '25 November 1981', '25 November 1981 [56]', '1 [57]']\n",
      "['29', 'Gandhi Stadium', 'Jalandhar', 'India', '20 December 1981', '20 February 1984 [58]', '3 [59]']\n",
      "['30', 'Barabati Stadium', 'Cuttack', 'India', '27 January 1982', '22 December 2019 [60]', '19 [61]']\n",
      "['31', 'Sinhalese Sports Club Ground (SSC)', 'Colombo', 'Sri Lanka', '13 February 1982', '22 February 2020 [62]', '61 [63]']\n",
      "['32', 'Gandhi Sports Complex Ground (Alexandra Ground)', 'Amritsar', 'India', '12 September 1982', '18 November 1995 [64]', '2 [65]']\n",
      "['33', 'Arun Jaitley Stadium (Feroz Shah Kotla Stadium;Kotla)', 'New Delhi', 'India', '15 September 1982', '13 March 2019 [66]', '25 [67]']\n",
      "['34', 'Niaz Stadium', 'Hyderabad', 'Pakistan', '20 September 1982', '24 January 2008 [68]', '7 [69]']\n",
      "['35', 'M. Chinnaswamy Stadium (Chinnaswamy Stadium)', 'Bangalore', 'India', '26 September 1982', '19 January 2020 [70]', '26 [71]']\n",
      "['36', 'Jinnah Stadium (Municipal Stadium)', 'Gujranwala', 'Pakistan', '3 December 1982', '16 February 2000 [72]', '11 [73]']\n",
      "['37', 'Ibn-e-Qasim Bagh Stadium', 'Multan', 'Pakistan', '17 December 1982', '14 October 1994 [74]', '6 [75]']\n",
      "['38', \"Queen's Park Oval\", 'Port of Spain', 'Trinidad & Tobago', '9 March 1983', '14 August 2019 [76]', '69 [77]']\n",
      "['39', 'McLean Park', 'Napier', 'New Zealand', '19 March 1983', '13 February 2019 [78]', '44 [79]']\n",
      "['40', \"Queen's Park (Old)\", \"St George's\", 'Grenada', '7 April 1983', '7 April 1983 [80]', '1 [81]']\n",
      "['41', 'Paikiasothy Saravanamuttu Stadium (Saravanamuttu Stadium)', 'Colombo', 'Sri Lanka', '13 April 1983', '20 July 2007 [82]', '12 [83]']\n",
      "['42', 'The Cooper Associates County Ground (formerly Athletic Ground)', 'Taunton', 'England', '11 June 1983', '17 June 2019 [84]', '6 [85]']\n",
      "['43', 'Grace Road', 'Leicester', 'England', '11 June 1983', '27 May 1999 [86]', '3 [87]']\n",
      "['44', \"Bristol County Ground (formerly Ashley Down/Fry's/Phoenix/Royal Sun & Alliance Ground)\", 'Bristol', 'England', '13 June 1983', '1 June 2019 [88]', '18 [89]']\n",
      "['45', 'New Road', 'Worcester', 'England', '13 June 1983', '22 May 1999 [90]', '3 [91]']\n",
      "['46', 'County Ground', 'Southampton', 'England', '16 June 1983', '30 May 1999 [92]', '3 [93]']\n",
      "['47', 'Nevill Ground', 'Tunbridge Wells', 'England', '18 June 1983', '18 June 1983 [94]', '1 [95]']\n",
      "['48', 'Racecourse Ground', 'Derby', 'England', '18 June 1983', '28 May 1999 [96]', '2 [97]']\n",
      "['49', 'The Ford County Ground', 'Chelmsford', 'England', '20 June 1983', '29 May 1999 [98]', '3 [99]']\n",
      "['50', 'Lal Bahadur Shastri Stadium (Fateh Maidan)', 'Hyderabad', 'India', '10 September 1983', '15 October 2003 [100]', '14 [101]']\n",
      "['51', 'Sawai Mansingh Stadium', 'Jaipur', 'India', '2 October 1983', '16 October 2013 [102]', '19 [103]']\n",
      "['52', 'Sher-i-Kashmir Stadium', 'Srinagar', 'India', '13 October 1983', '9 September 1986 [104]', '2 [105]']\n",
      "['53', 'Moti Bagh Stadium (formerly Motibaug Palace Ground)', 'Vadodara', 'India', '9 November 1983', '17 December 1988 [106]', '3 [107]']\n",
      "['54', 'Nehru Stadium', 'Indore', 'India', '1 December 1983', '31 March 2001 [108]', '9 [109]']\n",
      "['55', 'Keenan Stadium', 'Jamshedpur', 'India', '7 December 1983', '12 April 2006 [110]', '10 [111]']\n",
      "['56', 'Nehru Stadium', 'Guwahati', 'India', '17 December 1983', '28 November 2010 [112]', '14 [113]']\n",
      "['57', 'Tyronne Fernando Stadium (Fernando Stadium)', 'Moratuwa', 'Sri Lanka', '31 March 1984', '14 August 1993 [114]', '6 [115]']\n",
      "['58', 'Sharjah Cricket Stadium (Sharjah)', 'Sharjah', 'United Arab Emirates', '6 April 1984', '9 December 2019 [116]', '240 [117]']\n",
      "['59', 'Sabina Park (Bina)', 'Kingston', 'Jamaica', '26 April 1984', '6 July 2017 [118]', '38 [119]']\n",
      "['60', 'Jawaharlal Nehru Stadium', 'New Delhi', 'India', '28 September 1984', '14 October 1991 [120]', '2 [121]']\n",
      "['61', 'University Stadium', 'Trivandrum', 'India', '1 October 1984', '25 January 1988 [122]', '2 [123]']\n",
      "['62', 'Sardar Patel Stadium (Motera)', 'Ahmedabad', 'India', '5 October 1984', '6 November 2014 [124]', '23 [125]']\n",
      "['63', 'Arbab Niaz Stadium', 'Peshawar', 'Pakistan', '2 November 1984', '6 February 2006 [126]', '15 [127]']\n",
      "['64', 'Iqbal Stadium', 'Faisalabad', 'Pakistan', '23 November 1984', '11 April 2008 [128]', '16 [129]']\n",
      "['65', 'Nehru Stadium (formerly Club of Maharashtra)', 'Pune', 'India', '5 December 1984', '3 November 2005 [130]', '11 [131]']\n",
      "['66', 'Tasmania Cricket Association Ground', 'Hobart', 'Australia', '10 January 1985', '10 January 1985 [132]', '1 [133]']\n",
      "['67', 'Vidarbha Cricket Association Ground (VCA, Nagpur)', 'Nagpur', 'India', '23 January 1985', '14 October 2007 [134]', '14 [135]']\n",
      "['68', 'Sector 16 Stadium', 'Chandigarh', 'India', '27 January 1985', '8 October 2007 [136]', '5 [137]']\n",
      "['69', 'Kensington Oval (The Mecca)', 'Bridgetown', 'Barbados', '23 April 1985', '9 January 2020 [138]', '39 [139]']\n",
      "['70', 'Pindi Club Ground (Army Sports Ground)', 'Rawalpindi', 'Pakistan', '4 December 1985', '12 October 1987 [140]', '2 [141]']\n",
      "['71', 'North Tasmania Cricket Association Ground', 'Launceston', 'Australia', '2 February 1986', '2 February 1986 [142]', '1 [143]']\n",
      "['72', 'Asgiriya Stadium', 'Kandy', 'Sri Lanka', '2 March 1986', '16 December 2001 [144]', '6 [145]']\n",
      "['73', 'Ranasinghe Premadasa Stadium (formerly Khetterama Stadium)', 'Colombo', 'Sri Lanka', '5 April 1986', '31 July 2019 [146]', '129 [147]']\n",
      "['74', 'Madhavrao Scindia Cricket Ground (formerly Racecourse/Corporation Ground/Municipal Stadium)', 'Rajkot', 'India', '7 October 1986', '15 December 2009 [148]', '12 [149]']\n",
      "['75', 'Modi Stadium (formerly Green Park/British India Corporation Ground)', 'Kanpur', 'India', '24 December 1986', '15 December 2009 [150]', '15 [151]']\n",
      "['76', 'Wankhede Stadium', 'Mumbai', 'India', '17 January 1987', '14 January 2020 [152]', '22 [153]']\n",
      "['77', 'Formby Recreation Ground (Devonport Oval)', 'Devonport', 'Australia', '3 February 1987', '3 February 1987 [154]', '1 [155]']\n",
      "['78', 'Eden Gardens', 'Kolkata', 'India', '18 February 1987', '21 September 2017 [156]', '30 [157]']\n",
      "['79', 'M. A. Chidambaram Stadium (Chepauk)', 'Chennai', 'India', '9 October 1987', '15 December 2019 [158]', '22 [159]']\n",
      "['80', 'Bellerive Oval', 'Hobart', 'Australia', '12 January 1988', '11 November 2018 [160]', '36 [161]']\n",
      "['81', 'Nahar Singh Stadium (formerly Mayur Stadium)', 'Faridabad', 'India', '19 January 1988', '31 March 2006 [162]', '8 [163]']\n",
      "['82', 'Captain Roop Singh Stadium', 'Gwalior', 'India', '22 January 1988', '24 February 2010 [164]', '12 [165]']\n",
      "['83', 'Bourda', 'Georgetown', 'Guyana', '30 March 1988', '7 May 2006 [166]', '11 [167]']\n",
      "['84', 'MA Aziz Stadium', 'Chittagong', 'Bangladesh', '27 October 1988', '26 January 2005 [168]', '10 [169]']\n",
      "['85', 'Bangabandhu National Stadium (Number 1 Dhaka Stadium)', 'Dhaka', 'Bangladesh', '27 October 1988', '31 January 2005 [170]', '58 [171]']\n",
      "['86', 'Indira Priyadarshini Stadium (Municipal Corporation Vizag Stadium)', 'Visakhapatnam', 'India', '10 December 1988', '3 April 2001 [172]', '5 [173]']\n",
      "['87', 'Brabourne Stadium', 'Mumbai', 'India', '23 October 1989', '29 October 2018 [174]', '9 [175]']\n",
      "['88', 'Nehru Stadium (Pandit Jawaharlal Nehru Stadium)', 'Fatorda', 'India', '25 October 1989', '24 October 2010 [176]', '7 [177]']\n",
      "['89', 'K.D. Singh Babu Stadium', 'Lucknow', 'India', '27 October 1989', '27 October 1989 [178]', '1 [179]']\n",
      "['90', 'Sargodha Cricket Stadium', 'Sargodha', 'Pakistan', '10 January 1992', '10 January 1992 [180]', '1 [181]']\n",
      "['91', 'Rawalpindi Cricket Stadium', 'Rawalpindi', 'Pakistan', '19 January 1992', '11 February 2006 [182]', '21 [183]']\n",
      "['92', 'Pukekura Park', 'New Plymouth', 'New Zealand', '23 February 1992', '23 February 1992 [184]', '1 [185]']\n",
      "['93', 'Ray Mitchell Oval (Harrup Park)', 'Mackay', 'Australia', '28 February 1992', '28 February 1992 [186]', '1 [187]']\n",
      "['94', 'Eastern Oval', 'Ballarat', 'Australia', '9 March 1992', '9 March 1992 [188]', '1 [189]']\n",
      "['95', 'Manuka Oval', 'Canberra', 'Australia', '10 March 1992', '6 December 2016 [190]', '9 [191]']\n",
      "['96', 'Berri Oval', 'Berri', 'Australia', '13 March 1992', '13 March 1992 [192]', '1 [193]']\n",
      "['97', 'Lavington Sports Oval (Lavington Sports Club)', 'Albury', 'Australia', '18 March 1992', '18 March 1992 [194]', '1 [195]']\n",
      "['98', 'Harare Sports Club (formerly Salisbury Sports Club)', 'Harare', 'Zimbabwe', '25 October 1992', '16 April 2019 [196]', '151 [197]']\n",
      "['99', 'Bulawayo Athletic Club', 'Bulawayo', 'Zimbabwe', '31 October 1992', '8 March 2018 [198]', '4 [199]']\n",
      "['100', 'Sahara Park Newlands (Newlands)', 'Cape Town', 'South Africa', '7 December 1992', '4 February 2020 [200]', '43 [201]']\n",
      "['101', 'Axxess DSL St. Georges (St George’s Park)', 'Port Elizabeth', 'South Africa', '9 December 1992', '13 March 2019 [202]', '42 [203]']\n",
      "['102', 'Centurion Park (SuperSport Park)', 'Centurion', 'South Africa', '11 December 1992', '6 March 2019 [204]', '54 [205]']\n",
      "['103', 'New Wanderers Stadium (Wanderers)', 'Johannesburg', 'South Africa', '13 December 1992', '10 February 2020 [206]', '49 [207]']\n",
      "['104', 'Goodyear Park (Springbok Park)', 'Bloemfontein', 'South Africa', '15 December 1992', '4 March 2020 [208]', '30 [209]']\n",
      "['105', 'Sahara Stadium, Kingsmead (Kingsmead)', 'Durban', 'South Africa', '17 December 1992', '7 February 2020 [210]', '47 [211]']\n",
      "['106', 'Buffalo Park', 'East London', 'South Africa', '19 December 1992', '22 October 2017 [212]', '22 [213]']\n",
      "['107', 'Moin-ul-Haq Stadium', 'Patna', 'India', '15 November 1993', '27 February 1996 [214]', '3 [215]']\n",
      "['108', 'Punjab Cricket Association Stadium (Mohali)', 'Mohali', 'India', '22 November 1993', '10 March 2019 [216]', '25 [217]']\n",
      "['109', 'Reliance Stadium (formerly Indian Petrochemicals Corporation Limited Sports Complex Ground)', 'Vadodara', 'India', '28 October 1994', '4 December 2010 [218]', '10 [219]']\n",
      "['110', 'Singapore Cricket Club Ground (Padang)', 'Singapore', 'Singapore', '1 April 1996', '7 April 1996 [220]', '4 [221]']\n",
      "['111', 'Toronto Cricket, Skating and Curling Club Ground', 'Toronto', 'Canada', '16 September 1996', '9 August 2011 [222]', '30 [223]']\n",
      "['112', 'Gymkhana Club Ground', 'Nairobi', 'Kenya', '28 September 1996', '11 October 2010 [224]', '62 [225]']\n",
      "['113', 'Nairobi Club Ground', 'Nairobi', 'Kenya', '1 October 1996', '1 October 1996 [226]', '1 [227]']\n",
      "['114', 'Aga Khan Sports Club Ground', 'Nairobi', 'Kenya', '2 October 1996', '16 October 1997 [228]', '4 [229]']\n",
      "['115', 'Bugti Stadium (formerly Racecourse Ground)', 'Quetta', 'Pakistan', '30 October 1996', '30 October 1996 [230]', '1 [231]']\n",
      "['116', 'Queens Sports Club', 'Bulawayo', 'Zimbabwe', '15 December 1996', '22 July 2018 [232]', '80 [233]']\n",
      "['117', 'Boland Park (Boland Bank Park)', 'Paarl', 'South Africa', '27 January 1997', '29 February 2020 [234]', '13 [235]']\n",
      "['118', 'Willowmoore Park (Willowmoore Park Main Oval)', 'Benoni', 'South Africa', '9 February 1997', '27 September 2016 [236]', '21 [237]']\n",
      "['119', 'Nehru Stadium', 'Kochi', 'India', '1 April 1998', '8 October 2014 [238]', '9 [239]']\n",
      "['120', 'De Beers Diamond Oval (formerly Kimberley Country Club/De Beers Country Club)', 'Kimberley', 'South Africa', '7 April 1998', '30 September 2018 [240]', '14 [241]']\n",
      "['121', 'Sheikhupura Stadium', 'Sheikhupura', 'Pakistan', '22 November 1998', '2 February 2008 [242]', '2 [243]']\n",
      "['122', 'Owen Delany Park', 'Taupo', 'New Zealand', '9 January 1999', '2 January 2001 [244]', '3 [245]']\n",
      "['123', \"National Cricket Stadium (Queen's Park)\", \"St. George's\", 'Grenada', '14 April 1999', '12 January 2020 [246]', '24 [247]']\n",
      "['124', 'County Ground', 'Hove', 'England', '15 May 1999', '15 May 1999 [248]', '1 [249]']\n",
      "['125', 'St Lawrence Ground', 'Canterbury', 'England', '18 May 1999', '30 June 2005 [250]', '4 [251]']\n",
      "['126', 'County Ground (Wantage Road)', 'Northampton', 'England', '19 May 1999', '31 May 1999 [252]', '2 [253]']\n",
      "['127', 'SWALEC Stadium (Sophia Gardens)', 'Cardiff', 'Wales', '20 May 1999', '15 June 2019 [254]', '28 [255]']\n",
      "['128', 'County Ground (Riverside)', 'Chester-le-Street', 'England', '20 May 1999', '3 July 2019 [256]', '19 [257]']\n",
      "['129', 'Clontarf Cricket Club Ground (Castle Avenue)', 'Dublin', 'Ireland', '21 May 1999', '15 May 2019 [258]', '25 [259]']\n",
      "['130', 'Grange CC Ground', 'Edinburgh', 'Scotland', '24 May 1999', '21 May 2019 [260]', '21 [261]']\n",
      "['131', 'VRA Cricket Ground', 'Amstelveen', 'Netherlands', '26 May 1999', '3 August 2018 [262]', '21 [263]']\n",
      "['132', 'Galle International Stadium', 'Galle', 'Sri Lanka', '22 August 1999', '2 July 2017 [264]', '6 [265]']\n",
      "['133', 'Kallang Ground', 'Singapore', 'Singapore', '2 September 1999', '27 August 2000 [266]', '10 [267]']\n",
      "['134', 'Westpac Stadium (formerly WestpacTrust Stadium)', 'Wellington', 'New Zealand', '8 January 2000', '3 February 2019 [268]', '31 [269]']\n",
      "['135', 'Docklands Stadium (Etihad Stadium, formerly Colonial Stadium/Telstra Dome)', 'Melbourne', 'Australia', '16 August 2000', '3 February 2006 [270]', '12 [271]']\n",
      "['136', 'North West Cricket Stadium (Senwes Park)', 'Potchefstroom', 'South Africa', '20 October 2000', '7 March 2020 [272]', '19 [273]']\n",
      "['137', 'Barkatullah Khan Stadium', 'Jodhpur', 'India', '8 December 2000', '21 November 2002 [274]', '2 [275]']\n",
      "['138', 'Rangiri Dambulla International Stadium', 'Dambulla', 'Sri Lanka', '23 March 2001', '13 October 2018 [276]', '55 [277]']\n",
      "['139', 'Simba Union Ground', 'Nairobi', 'Kenya', '15 August 2001', '15 August 2001 [278]', '1 [279]']\n",
      "['140', 'Darren Sammy National Cricket Stadium (Beausejour)', 'Gros Islet', 'Saint Lucia', '8 June 2002', '2 March 2019 [280]', '30 [281]']\n",
      "['141', 'National Cricket Stadium', 'Tangier', 'Morocco', '12 August 2002', '21 August 2002 [282]', '7 [283]']\n",
      "['142', 'Indira Gandhi Stadium (Indira Gandhi Municipal Corporation Stadium)', 'Vijayawada', 'India', '24 November 2002', '24 November 2002 [284]', '1 [285]']\n",
      "['143', 'Kwekwe Sports Club', 'Kwekwe', 'Zimbabwe', '11 December 2002', '11 December 2002 [286]', '1 [287]']\n",
      "['144', 'Queenstown Events Centre (formerly Davies Park)', 'Queenstown', 'New Zealand', '4 January 2003', '1 January 2014 [288]', '9 [289]']\n",
      "['145', 'City Oval (Alexandra Park)', 'Pietermaritzburg', 'South Africa', '14 February 2003', '23 February 2003 [290]', '2 [291]']\n",
      "['146', 'Rose Bowl (Ageas Bowl)', 'Southampton', 'England', '10 July 2003', '24 June 2019 [292]', '28 [293]']\n",
      "['147', \"Bundaberg Rum Stadium (Cazaly's Stadium)\", 'Cairns', 'Australia', '2 August 2003', '3 August 2003 [294]', '2 [295]']\n",
      "['148', 'Marrara Oval (Marrara Cricket Ground)', 'Darwin', 'Australia', '6 August 2003', '6 September 2008 [296]', '4 [297]']\n",
      "['149', 'Multan Cricket Stadium', 'Multan', 'Pakistan', '9 September 2003', '16 April 2008 [298]', '7 [299]']\n",
      "['150', 'Dr YS Rajasekhara Reddy Andhra CA-Visakhapatnam District CA Cricket Stadium (APCA-VDCA Stadium)', 'Visakhapatnam', 'India', '5 April 2005', '18 December 2019 [300]', '9 [301]']\n",
      "['151', 'Rajiv Gandhi International Cricket Stadium', 'Hyderabad', 'India', '16 November 2005', '2 March 2019 [302]', '6 [303]']\n",
      "['152', 'Shaheed Chandu Stadium', 'Bogra', 'Bangladesh', '20 February 2006', '5 December 2006 [304]', '5 [305]']\n",
      "['153', 'Zohur Ahmed Chowdhury Stadium', 'Chittagong', 'Bangladesh', '25 February 2006', '26 October 2018 [306]', '19 [307]']\n",
      "['154', 'Sheikh Abu Naser Stadium (Khulna Divisional Stadium)', 'Khulna', 'Bangladesh', '20 March 2006', '2 December 2012 [308]', '4 [309]']\n",
      "['155', 'Fatullah Osmani Stadium', 'Fatullah', 'Bangladesh', '23 March 2006', '1 March 2014 [310]', '10 [311]']\n",
      "['156', 'Holkar Cricket Stadium (formerly Maharani Usharaje Trust Cricket Ground)', 'Indore', 'India', '15 April 2006', '24 September 2017 [312]', '5 [313]']\n",
      "['157', 'Sheikh Zayed Cricket Stadium', 'Abu Dhabi', 'United Arab Emirates', '18 April 2006', '27 March 2019 [314]', '45 [315]']\n",
      "['158', 'Warner Park', 'Basseterre', 'St Kitts & Nevis', '23 May 2006', '28 July 2018 [316]', '18 [317]']\n",
      "['159', 'Stormont', 'Belfast', 'Northern Ireland', '13 June 2006', '7 July 2019 [318]', '31 [319]']\n",
      "['160', 'Cambusdoon New Ground', 'Ayr', 'Scotland', '5 August 2006', '12 July 2012 [320]', '7 [321]']\n",
      "['161', 'Kinrara Academy Oval', 'Puchong', 'Malaysia', '12 September 2006', '30 August 2018 [322]', '10 [323]']\n",
      "['162', 'Mombasa Sports Club Ground', 'Mombasa', 'Kenya', '11 November 2006', '20 February 2012 [324]', '12 [325]']\n",
      "['163', 'Shere-e-Bangla Stadium', 'Mirpur', 'Bangladesh', '8 December 2006', '11 December 2018 [326]', '108 [327]']\n",
      "['164', 'Jaffery Sports Club Ground', 'Nairobi', 'Kenya', '29 January 2007', '5 February 2007 [328]', '5 [329]']\n",
      "['165', 'Ruaraka Sports Club Ground', 'Nairobi', 'Kenya', '30 January 2007', '5 February 2007 [330]', '5 [331]']\n",
      "['166', 'Sir Vivian Richards Stadium', 'Antigua', 'Antigua & Barbuda', '27 March 2007', '2 July 2017 [332]', '17 [333]']\n",
      "['167', 'Providence Stadium', 'Providence', 'Guyana', '28 March 2007', '8 August 2019 [334]', '22 [335]']\n",
      "['168', 'Titwood', 'Glasgow', 'Scotland', '16 August 2007', '20 July 2010 [336]', '2 [337]']\n",
      "['169', 'Hazelaarweg Stadion', 'Rotterdam', 'Netherlands', '18 August 2007', '10 July 2010 [338]', '10 [339]']\n",
      "['170', 'Maple Leaf North-West Ground', 'King City', 'Canada', '28 June 2008', '29 August 2013 [340]', '12 [341]']\n",
      "['171', 'Mannofield Park', 'Aberdeen', 'Scotland', '1 July 2008', '21 August 2019 [342]', '17 [343]']\n",
      "['172', 'Dubai International Cricket Stadium (Dubai Sports City Stadium)', 'Dubai', 'United Arab Emirates', '22 April 2009', '31 March 2019 [344]', '34 [345]']\n",
      "['173', 'Windsor Park', 'Roseau', 'Dominica', '26 July 2009', '30 May 2010 [346]', '4 [347]']\n",
      "['174', 'Vidarbha Cricket Association Stadium (Jamtha)', 'Nagpur', 'India', '28 October 2009', '5 March 2019 [348]', '9 [349]']\n",
      "['175', 'University Oval', 'Dunedin', 'New Zealand', '8 February 2010', '20 February 2019 [350]', '10 [351]']\n",
      "['176', 'Sportpark Westvliet', 'Voorburg', 'Netherlands', '1 July 2010', '13 September 2013 [352]', '6 [353]']\n",
      "['177', 'Sportpark Thurlede', 'Schiedam', 'Netherlands', '9 July 2010', '10 July 2010 [354]', '2 [355]']\n",
      "['178', 'Mahinda Rajapaksa International Stadium (Hambantota Cricket Stadium)', 'Hambantota', 'Sri Lanka', '20 February 2011', '26 February 2020 [356]', '21 [357]']\n",
      "['179', 'Pallekele International Cricket Stadium', 'Pallekele', 'Sri Lanka', '8 March 2011', '1 March 2020 [358]', '25 [359]']\n",
      "['180', 'Cobham Oval (New)', 'Whangarei', 'New Zealand', '6 February 2012', '20 December 2017 [360]', '2 [361]']\n",
      "['181', 'Saurashtra Cricket Association Stadium (Khanderi Cricket Stadium)', 'Rajkot', 'India', '11 January 2013', '17 January 2020 [362]', '3 [363]']\n",
      "['182', 'JSCA International Cricket Stadium', 'Ranchi', 'India', '19 January 2013', '8 March 2019 [364]', '5 [365]']\n",
      "['183', 'Himachal Pradesh Cricket Association Stadium', 'Dharamshala', 'India', '27 January 2013', '10 December 2017 [366]', '4 [367]']\n",
      "['184', 'ICC Global Cricket Academy', 'Dubai', 'United Arab Emirates', '11 March 2013', '15 December 2019 [368]', '26 [369]']\n",
      "['185', 'Malahide Cricket Club Ground (The Village)', 'Dublin', 'Ireland', '3 September 2013', '17 May 2019 [370]', '16 [371]']\n",
      "['186', 'Maharashtra Cricket Association Stadium', 'Pune', 'India', '13 October 2013', '27 October 2018 [372]', '4 [373]']\n",
      "['187', 'Saxton Oval', 'Nelson', 'New Zealand', '4 January 2014', '8 January 2019 [374]', '11 [375]']\n",
      "['188', 'Hagley Oval', 'Christchurch', 'New Zealand', '23 January 2014', '16 February 2019 [376]', '14 [377]']\n",
      "['189', 'Bert Sutcliffe Oval', 'Lincoln', 'New Zealand', '23 January 2014', '1 February 2014 [378]', '2 [379]']\n",
      "['190', 'Bay Oval', 'Mount Maunganui', 'New Zealand', '28 January 2014', '11 February 2020 [380]', '10 [381]']\n",
      "['191', 'Bayuemas Oval', 'Pandamaran', 'Malaysia', '1 May 2014', '1 May 2014 [382]', '1 [383]']\n",
      "['192', 'Tony Ireland Stadium', 'Townsville', 'Australia', '8 November 2014', '9 November 2014 [384]', '2 [385]']\n",
      "['193', 'Mission Road Ground', 'Mong Kok', 'Hong Kong', '26 January 2016', '28 November 2016 [386]', '4 [387]']\n",
      "['194', 'Greater Noida Sports Complex Ground', 'Greater Noida', 'India', '8 March 2017', '24 March 2017 [388]', '5 [389]']\n",
      "['195', 'Amini Park', 'Port Moresby', 'PNG', '6 October 2017', '7 October 2017 [390]', '2 [391]']\n",
      "['196', 'Perth Stadium', 'Perth', 'Australia', '28 January 2018', '4 November 2018 [392]', '2 [393]']\n",
      "['197', 'Old Hararians', 'Harare', 'Zimbabwe', '8 March 2018', '20 March 2018 [394]', '5 [395]']\n",
      "['198', 'Dr. Bhupen Hazarika Cricket Stadium (Barsapara Cricket Stadium)', 'Guwahati', 'India', '21 October 2018', '21 October 2018 [396]', '1 [397]']\n",
      "['199', 'Greenfield International Stadium (Trivandrum University Stadium)', 'Thiruvananthapuram', 'India', '1 November 2018', '1 November 2018 [398]', '1 [399]']\n",
      "['200', 'Sylhet International Cricket Stadium (Sylhet Divisional Stadium)', 'Sylhet', 'Bangladesh', '14 December 2018', '6 March 2020 [400]', '4 [401]']\n",
      "['201', 'Rajiv Gandhi International Cricket Stadium', 'Dehradun', 'India', '28 February 2019', '10 March 2019 [402]', '5 [403]']\n",
      "['202', 'Wanderers Cricket Ground', 'Windhoek', 'Namibia', '27 April 2019', '27 April 2019 [404]', '1 [405]']\n",
      "['203', 'Affies Park', 'Windhoek', 'Namibia', '27 April 2019', '27 April 2019 [406]', '1 [407]']\n",
      "['204', 'Sportpark Het Schootsveld', 'Deventer', 'Netherlands', '19 June 2019', '21 June 2019 [408]', '2 [409]']\n",
      "['205', 'Bready', 'Magheramason', 'Northern Ireland', '1 July 2019', '1 July 2019[410]', '1 [411]']\n",
      "['206', 'Central Broward Regional Park', 'Lauderhill', 'USA', '13 September 2019', '23 September 2019[412]', '6 [413]']\n",
      "['207', 'Bharat Ratna Shri Atal Bihari Vajpayee Ekana Cricket Stadium (Ekana International Cricket Stadium)', 'Lucknow', 'India', '6 November 2019', '11 November 2019[414]', '3 [415]']\n",
      "['208', 'Al Amerat Cricket Stadium (Ministry Turf 1)', 'Muscat', 'Oman', '5 January 2020', '9 January 2020 [416]', '4 [417]']\n",
      "['209', 'Tribhuvan University International Cricket Ground (Kirtipur Cricket Stadium)', 'Kirtipur', 'Nepal', '5 February 2020', '12 February 2020[418]', '6 [419]']\n"
     ]
    }
   ],
   "source": [
    "# table data of country, ground, city from first table\n",
    "#fetch all table\n",
    "g = soup.find_all(\"table\")\n",
    "#fetch 1st table \"tbody\"\n",
    "body=g[0].find('tbody')\n",
    "#fetch all rows of 1st table \"tbody\" \n",
    "rows=body.find_all('tr')\n",
    "\n",
    "ground=[]\n",
    "city=[]\n",
    "country=[]\n",
    "for i in rows[1:]:\n",
    "    cols=i.find_all('td')\n",
    "    colm=[]\n",
    "    for x in cols:\n",
    "        colm.append(x.text.strip())\n",
    "    print(colm)\n",
    "    ground.append(colm[1])\n",
    "    city.append(colm[2].strip().lower())\n",
    "    country.append(colm[3].strip().lower())"
   ]
  },
  {
   "cell_type": "code",
   "execution_count": 4,
   "metadata": {
    "collapsed": true
   },
   "outputs": [],
   "source": [
    "#data frame prepration for storing fetch data\n",
    "df=DataFrame({\"Ground\":ground, \"City\":city, \"Country\":country})"
   ]
  },
  {
   "cell_type": "code",
   "execution_count": 6,
   "metadata": {
    "collapsed": true
   },
   "outputs": [],
   "source": [
    "#data save in ground.csv file\n",
    "df.to_csv(\"ground1.csv\", mode='a', header=True)"
   ]
  },
  {
   "cell_type": "code",
   "execution_count": 1,
   "metadata": {
    "collapsed": true
   },
   "outputs": [],
   "source": [
    "from pandas import DataFrame"
   ]
  },
  {
   "cell_type": "code",
   "execution_count": 2,
   "metadata": {
    "collapsed": true
   },
   "outputs": [],
   "source": [
    "df=DataFrame()\n",
    "df[\"name\"]=[1,2,3,4]\n",
    "df[\"sec\"]=[\"a\",\"af\",\"adf\",\"adff\"]"
   ]
  },
  {
   "cell_type": "code",
   "execution_count": 10,
   "metadata": {
    "collapsed": true
   },
   "outputs": [],
   "source": [
    "s=df[\"name\"]\n",
    "sec=list(df[\"sec\"])"
   ]
  },
  {
   "cell_type": "code",
   "execution_count": 11,
   "metadata": {
    "collapsed": true
   },
   "outputs": [],
   "source": [
    "sec.append(4)"
   ]
  },
  {
   "cell_type": "code",
   "execution_count": 12,
   "metadata": {},
   "outputs": [
    {
     "data": {
      "text/plain": [
       "['a', 'af', 'adf', 'adff', 4]"
      ]
     },
     "execution_count": 12,
     "metadata": {},
     "output_type": "execute_result"
    }
   ],
   "source": [
    "sec"
   ]
  },
  {
   "cell_type": "code",
   "execution_count": 16,
   "metadata": {},
   "outputs": [
    {
     "data": {
      "text/plain": [
       "3.73473"
      ]
     },
     "execution_count": 16,
     "metadata": {},
     "output_type": "execute_result"
    }
   ],
   "source": [
    "round(3.7347299999999999,5)"
   ]
  },
  {
   "cell_type": "code",
   "execution_count": null,
   "metadata": {
    "collapsed": true
   },
   "outputs": [],
   "source": []
  }
 ],
 "metadata": {
  "kernelspec": {
   "display_name": "Python 3",
   "language": "python",
   "name": "python3"
  },
  "language_info": {
   "codemirror_mode": {
    "name": "ipython",
    "version": 3
   },
   "file_extension": ".py",
   "mimetype": "text/x-python",
   "name": "python",
   "nbconvert_exporter": "python",
   "pygments_lexer": "ipython3",
   "version": "3.6.3"
  }
 },
 "nbformat": 4,
 "nbformat_minor": 2
}
